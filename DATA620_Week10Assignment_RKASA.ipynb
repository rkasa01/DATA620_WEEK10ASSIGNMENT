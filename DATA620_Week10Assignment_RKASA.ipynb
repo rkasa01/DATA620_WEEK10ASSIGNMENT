{
  "nbformat": 4,
  "nbformat_minor": 0,
  "metadata": {
    "colab": {
      "provenance": []
    },
    "kernelspec": {
      "name": "python3",
      "display_name": "Python 3"
    },
    "language_info": {
      "name": "python"
    }
  },
  "cells": [
    {
      "cell_type": "markdown",
      "source": [
        "#Week Ten - Assignment: Document Classification\n",
        "\n",
        "## Prompt:\n",
        "\n",
        "It can be useful to be able to classify new \"test\" documents using already classified \"training\" documents.  A common example is using a corpus of labeled spam and ham (non-spam) e-mails to predict whether or not a new document is spam.  Here is one example of such data:  UCI Machine Learning Repository: Spambase Data Set\n",
        "\n",
        "For this project, you can either use the above dataset to predict the class of new documents (either withheld from the training dataset or from another source such as your own spam folder).\n",
        "\n",
        "For more adventurous students, you are welcome (encouraged!) to come up a different set of documents (including scraped web pages!?) that have already been classified (e.g. tagged), then analyze these documents to predict how new documents should be classified."
      ],
      "metadata": {
        "id": "8roAqWc4v5bT"
      }
    },
    {
      "cell_type": "markdown",
      "source": [
        "# Import Packages"
      ],
      "metadata": {
        "id": "A5ufCGCFypOQ"
      }
    },
    {
      "cell_type": "code",
      "execution_count": 56,
      "metadata": {
        "id": "qjoa1gBLvyRe"
      },
      "outputs": [],
      "source": [
        "import nltk\n",
        "import random\n",
        "import pandas as pd\n",
        "import requests\n",
        "from bs4 import BeautifulSoup\n",
        "import os\n",
        "import tarfile\n",
        "from sklearn.model_selection import train_test_split\n",
        "from sklearn.feature_extraction.text import TfidfVectorizer\n",
        "from sklearn.naive_bayes import MultinomialNB\n",
        "from sklearn.metrics import accuracy_score, classification_report\n",
        "from sklearn.utils import shuffle"
      ]
    },
    {
      "cell_type": "markdown",
      "source": [
        "# Loading Dataset"
      ],
      "metadata": {
        "id": "LqG7BpNZ0h3a"
      }
    },
    {
      "cell_type": "code",
      "source": [
        "def extract_tar_bz2(file_path, extract_dir):\n",
        "    with tarfile.open(file_path, \"r:bz2\") as tar:\n",
        "        tar.extractall(path=extract_dir)\n",
        "\n",
        "ham_path = \"/content/20021010_easy_ham.tar.bz2\"\n",
        "spam_path = \"/content/20021010_spam.tar.bz2\"\n",
        "\n",
        "extract_tar_bz2(ham_path, \"/content/ham\")\n",
        "extract_tar_bz2(spam_path, \"/content/spam\")"
      ],
      "metadata": {
        "id": "6r2u37jhkMrz"
      },
      "execution_count": 57,
      "outputs": []
    },
    {
      "cell_type": "markdown",
      "source": [
        "I first started by extracting data from the spamassassin public corpus which can be found here: https://spamassassin.apache.org/old/publiccorpus/. I extracted data from one ham (\"20021010_easy_ham.tar.bz2\") and one spam (\"20021010_spam.tar.bz2\") folder and created two separate directories -- one for each. I set a seed beforehand for reproducibility."
      ],
      "metadata": {
        "id": "iV9eJQHY0jdx"
      }
    },
    {
      "cell_type": "markdown",
      "source": [
        "# Summary Statistics"
      ],
      "metadata": {
        "id": "tFQCH_RuuvKm"
      }
    },
    {
      "cell_type": "code",
      "source": [
        "def count_emails_in_directory(directory):\n",
        "    total_count = 0\n",
        "    for root, dirs, files in os.walk(directory):\n",
        "        for file in files:\n",
        "            file_path = os.path.join(root, file)\n",
        "            with open(file_path, \"r\", encoding=\"latin1\") as f:\n",
        "                email_count = f.read().count(\"From:\")\n",
        "                total_count += email_count\n",
        "    return total_count\n",
        "ham_dir = \"/content/ham\"\n",
        "spam_dir = \"/content/spam\"\n",
        "ham_count = count_emails_in_directory(ham_dir)\n",
        "spam_count = count_emails_in_directory(spam_dir)\n",
        "print(\"Number of ham emails:\", ham_count)\n",
        "print(\"Number of spam emails:\", spam_count)"
      ],
      "metadata": {
        "colab": {
          "base_uri": "https://localhost:8080/"
        },
        "id": "lNYvjuGvlLY3",
        "outputId": "84eaea4f-251c-4ae1-c23b-5e37038683b3"
      },
      "execution_count": 58,
      "outputs": [
        {
          "output_type": "stream",
          "name": "stdout",
          "text": [
            "Number of ham emails: 2889\n",
            "Number of spam emails: 512\n"
          ]
        }
      ]
    },
    {
      "cell_type": "markdown",
      "source": [
        "Here, I have counted the number of emails in each directory by iterating through all files from each directory, and counting the occurrences of the string \"From:\" in each file. This gets applied to both ham and spam directories to obtain the counts of ham and spam emails. We can see that there are 2889 ham emails and 512 spam emails."
      ],
      "metadata": {
        "id": "l9aFc4aNkZ3s"
      }
    },
    {
      "cell_type": "markdown",
      "source": [
        "# Creating a Combined Dataframe"
      ],
      "metadata": {
        "id": "0dP_J1R0uyji"
      }
    },
    {
      "cell_type": "code",
      "source": [
        "def read_emails_in_directory(directory):\n",
        "    emails = []\n",
        "    for root, dirs, files in os.walk(directory):\n",
        "        for file in files:\n",
        "            file_path = os.path.join(root, file)\n",
        "            with open(file_path, \"r\", encoding=\"latin1\") as f:\n",
        "                email_content = f.read()\n",
        "                emails.append({\"File\": file, \"Content\": email_content})\n",
        "    df = pd.DataFrame(emails)\n",
        "    return df\n",
        "ham_df = read_emails_in_directory(ham_dir)\n",
        "spam_df = read_emails_in_directory(spam_dir)\n",
        "\n",
        "ham_df.head()\n",
        "spam_df.head()"
      ],
      "metadata": {
        "colab": {
          "base_uri": "https://localhost:8080/",
          "height": 206
        },
        "id": "9s_4CFWEpKBJ",
        "outputId": "13242788-ea53-4c62-92a3-58750b7f6d99"
      },
      "execution_count": 59,
      "outputs": [
        {
          "output_type": "execute_result",
          "data": {
            "text/plain": [
              "                                    File  \\\n",
              "0  0300.fa3ece84a195f3d36a70f2550824071f   \n",
              "1  0095.e1db2d3556c2863ef7355faf49160219   \n",
              "2  0021.15185fdb3fb02dffd041fa8f70d19791   \n",
              "3  0267.0bf79a17115bffdf00bb0997f773dfc5   \n",
              "4  0323.badf0273f656afd0dfebaa63af1c81f6   \n",
              "\n",
              "                                             Content  \n",
              "0  From news@risingtidestudios.com  Fri Sep 13 13...  \n",
              "1  From sitescooper-talk-admin@lists.sourceforge....  \n",
              "2  From ilug-admin@linux.ie  Fri Aug 23 11:07:47 ...  \n",
              "3  Return-Path: ler@lerami.lerctr.org\\nDelivery-D...  \n",
              "4  From webmake-talk-admin@lists.sourceforge.net ...  "
            ],
            "text/html": [
              "\n",
              "  <div id=\"df-ccd1d880-7f6c-48a7-9ff1-7237083aa5e6\" class=\"colab-df-container\">\n",
              "    <div>\n",
              "<style scoped>\n",
              "    .dataframe tbody tr th:only-of-type {\n",
              "        vertical-align: middle;\n",
              "    }\n",
              "\n",
              "    .dataframe tbody tr th {\n",
              "        vertical-align: top;\n",
              "    }\n",
              "\n",
              "    .dataframe thead th {\n",
              "        text-align: right;\n",
              "    }\n",
              "</style>\n",
              "<table border=\"1\" class=\"dataframe\">\n",
              "  <thead>\n",
              "    <tr style=\"text-align: right;\">\n",
              "      <th></th>\n",
              "      <th>File</th>\n",
              "      <th>Content</th>\n",
              "    </tr>\n",
              "  </thead>\n",
              "  <tbody>\n",
              "    <tr>\n",
              "      <th>0</th>\n",
              "      <td>0300.fa3ece84a195f3d36a70f2550824071f</td>\n",
              "      <td>From news@risingtidestudios.com  Fri Sep 13 13...</td>\n",
              "    </tr>\n",
              "    <tr>\n",
              "      <th>1</th>\n",
              "      <td>0095.e1db2d3556c2863ef7355faf49160219</td>\n",
              "      <td>From sitescooper-talk-admin@lists.sourceforge....</td>\n",
              "    </tr>\n",
              "    <tr>\n",
              "      <th>2</th>\n",
              "      <td>0021.15185fdb3fb02dffd041fa8f70d19791</td>\n",
              "      <td>From ilug-admin@linux.ie  Fri Aug 23 11:07:47 ...</td>\n",
              "    </tr>\n",
              "    <tr>\n",
              "      <th>3</th>\n",
              "      <td>0267.0bf79a17115bffdf00bb0997f773dfc5</td>\n",
              "      <td>Return-Path: ler@lerami.lerctr.org\\nDelivery-D...</td>\n",
              "    </tr>\n",
              "    <tr>\n",
              "      <th>4</th>\n",
              "      <td>0323.badf0273f656afd0dfebaa63af1c81f6</td>\n",
              "      <td>From webmake-talk-admin@lists.sourceforge.net ...</td>\n",
              "    </tr>\n",
              "  </tbody>\n",
              "</table>\n",
              "</div>\n",
              "    <div class=\"colab-df-buttons\">\n",
              "\n",
              "  <div class=\"colab-df-container\">\n",
              "    <button class=\"colab-df-convert\" onclick=\"convertToInteractive('df-ccd1d880-7f6c-48a7-9ff1-7237083aa5e6')\"\n",
              "            title=\"Convert this dataframe to an interactive table.\"\n",
              "            style=\"display:none;\">\n",
              "\n",
              "  <svg xmlns=\"http://www.w3.org/2000/svg\" height=\"24px\" viewBox=\"0 -960 960 960\">\n",
              "    <path d=\"M120-120v-720h720v720H120Zm60-500h600v-160H180v160Zm220 220h160v-160H400v160Zm0 220h160v-160H400v160ZM180-400h160v-160H180v160Zm440 0h160v-160H620v160ZM180-180h160v-160H180v160Zm440 0h160v-160H620v160Z\"/>\n",
              "  </svg>\n",
              "    </button>\n",
              "\n",
              "  <style>\n",
              "    .colab-df-container {\n",
              "      display:flex;\n",
              "      gap: 12px;\n",
              "    }\n",
              "\n",
              "    .colab-df-convert {\n",
              "      background-color: #E8F0FE;\n",
              "      border: none;\n",
              "      border-radius: 50%;\n",
              "      cursor: pointer;\n",
              "      display: none;\n",
              "      fill: #1967D2;\n",
              "      height: 32px;\n",
              "      padding: 0 0 0 0;\n",
              "      width: 32px;\n",
              "    }\n",
              "\n",
              "    .colab-df-convert:hover {\n",
              "      background-color: #E2EBFA;\n",
              "      box-shadow: 0px 1px 2px rgba(60, 64, 67, 0.3), 0px 1px 3px 1px rgba(60, 64, 67, 0.15);\n",
              "      fill: #174EA6;\n",
              "    }\n",
              "\n",
              "    .colab-df-buttons div {\n",
              "      margin-bottom: 4px;\n",
              "    }\n",
              "\n",
              "    [theme=dark] .colab-df-convert {\n",
              "      background-color: #3B4455;\n",
              "      fill: #D2E3FC;\n",
              "    }\n",
              "\n",
              "    [theme=dark] .colab-df-convert:hover {\n",
              "      background-color: #434B5C;\n",
              "      box-shadow: 0px 1px 3px 1px rgba(0, 0, 0, 0.15);\n",
              "      filter: drop-shadow(0px 1px 2px rgba(0, 0, 0, 0.3));\n",
              "      fill: #FFFFFF;\n",
              "    }\n",
              "  </style>\n",
              "\n",
              "    <script>\n",
              "      const buttonEl =\n",
              "        document.querySelector('#df-ccd1d880-7f6c-48a7-9ff1-7237083aa5e6 button.colab-df-convert');\n",
              "      buttonEl.style.display =\n",
              "        google.colab.kernel.accessAllowed ? 'block' : 'none';\n",
              "\n",
              "      async function convertToInteractive(key) {\n",
              "        const element = document.querySelector('#df-ccd1d880-7f6c-48a7-9ff1-7237083aa5e6');\n",
              "        const dataTable =\n",
              "          await google.colab.kernel.invokeFunction('convertToInteractive',\n",
              "                                                    [key], {});\n",
              "        if (!dataTable) return;\n",
              "\n",
              "        const docLinkHtml = 'Like what you see? Visit the ' +\n",
              "          '<a target=\"_blank\" href=https://colab.research.google.com/notebooks/data_table.ipynb>data table notebook</a>'\n",
              "          + ' to learn more about interactive tables.';\n",
              "        element.innerHTML = '';\n",
              "        dataTable['output_type'] = 'display_data';\n",
              "        await google.colab.output.renderOutput(dataTable, element);\n",
              "        const docLink = document.createElement('div');\n",
              "        docLink.innerHTML = docLinkHtml;\n",
              "        element.appendChild(docLink);\n",
              "      }\n",
              "    </script>\n",
              "  </div>\n",
              "\n",
              "\n",
              "<div id=\"df-a9f2e299-94a5-4cbd-80fc-9ccefa9b5dd2\">\n",
              "  <button class=\"colab-df-quickchart\" onclick=\"quickchart('df-a9f2e299-94a5-4cbd-80fc-9ccefa9b5dd2')\"\n",
              "            title=\"Suggest charts\"\n",
              "            style=\"display:none;\">\n",
              "\n",
              "<svg xmlns=\"http://www.w3.org/2000/svg\" height=\"24px\"viewBox=\"0 0 24 24\"\n",
              "     width=\"24px\">\n",
              "    <g>\n",
              "        <path d=\"M19 3H5c-1.1 0-2 .9-2 2v14c0 1.1.9 2 2 2h14c1.1 0 2-.9 2-2V5c0-1.1-.9-2-2-2zM9 17H7v-7h2v7zm4 0h-2V7h2v10zm4 0h-2v-4h2v4z\"/>\n",
              "    </g>\n",
              "</svg>\n",
              "  </button>\n",
              "\n",
              "<style>\n",
              "  .colab-df-quickchart {\n",
              "      --bg-color: #E8F0FE;\n",
              "      --fill-color: #1967D2;\n",
              "      --hover-bg-color: #E2EBFA;\n",
              "      --hover-fill-color: #174EA6;\n",
              "      --disabled-fill-color: #AAA;\n",
              "      --disabled-bg-color: #DDD;\n",
              "  }\n",
              "\n",
              "  [theme=dark] .colab-df-quickchart {\n",
              "      --bg-color: #3B4455;\n",
              "      --fill-color: #D2E3FC;\n",
              "      --hover-bg-color: #434B5C;\n",
              "      --hover-fill-color: #FFFFFF;\n",
              "      --disabled-bg-color: #3B4455;\n",
              "      --disabled-fill-color: #666;\n",
              "  }\n",
              "\n",
              "  .colab-df-quickchart {\n",
              "    background-color: var(--bg-color);\n",
              "    border: none;\n",
              "    border-radius: 50%;\n",
              "    cursor: pointer;\n",
              "    display: none;\n",
              "    fill: var(--fill-color);\n",
              "    height: 32px;\n",
              "    padding: 0;\n",
              "    width: 32px;\n",
              "  }\n",
              "\n",
              "  .colab-df-quickchart:hover {\n",
              "    background-color: var(--hover-bg-color);\n",
              "    box-shadow: 0 1px 2px rgba(60, 64, 67, 0.3), 0 1px 3px 1px rgba(60, 64, 67, 0.15);\n",
              "    fill: var(--button-hover-fill-color);\n",
              "  }\n",
              "\n",
              "  .colab-df-quickchart-complete:disabled,\n",
              "  .colab-df-quickchart-complete:disabled:hover {\n",
              "    background-color: var(--disabled-bg-color);\n",
              "    fill: var(--disabled-fill-color);\n",
              "    box-shadow: none;\n",
              "  }\n",
              "\n",
              "  .colab-df-spinner {\n",
              "    border: 2px solid var(--fill-color);\n",
              "    border-color: transparent;\n",
              "    border-bottom-color: var(--fill-color);\n",
              "    animation:\n",
              "      spin 1s steps(1) infinite;\n",
              "  }\n",
              "\n",
              "  @keyframes spin {\n",
              "    0% {\n",
              "      border-color: transparent;\n",
              "      border-bottom-color: var(--fill-color);\n",
              "      border-left-color: var(--fill-color);\n",
              "    }\n",
              "    20% {\n",
              "      border-color: transparent;\n",
              "      border-left-color: var(--fill-color);\n",
              "      border-top-color: var(--fill-color);\n",
              "    }\n",
              "    30% {\n",
              "      border-color: transparent;\n",
              "      border-left-color: var(--fill-color);\n",
              "      border-top-color: var(--fill-color);\n",
              "      border-right-color: var(--fill-color);\n",
              "    }\n",
              "    40% {\n",
              "      border-color: transparent;\n",
              "      border-right-color: var(--fill-color);\n",
              "      border-top-color: var(--fill-color);\n",
              "    }\n",
              "    60% {\n",
              "      border-color: transparent;\n",
              "      border-right-color: var(--fill-color);\n",
              "    }\n",
              "    80% {\n",
              "      border-color: transparent;\n",
              "      border-right-color: var(--fill-color);\n",
              "      border-bottom-color: var(--fill-color);\n",
              "    }\n",
              "    90% {\n",
              "      border-color: transparent;\n",
              "      border-bottom-color: var(--fill-color);\n",
              "    }\n",
              "  }\n",
              "</style>\n",
              "\n",
              "  <script>\n",
              "    async function quickchart(key) {\n",
              "      const quickchartButtonEl =\n",
              "        document.querySelector('#' + key + ' button');\n",
              "      quickchartButtonEl.disabled = true;  // To prevent multiple clicks.\n",
              "      quickchartButtonEl.classList.add('colab-df-spinner');\n",
              "      try {\n",
              "        const charts = await google.colab.kernel.invokeFunction(\n",
              "            'suggestCharts', [key], {});\n",
              "      } catch (error) {\n",
              "        console.error('Error during call to suggestCharts:', error);\n",
              "      }\n",
              "      quickchartButtonEl.classList.remove('colab-df-spinner');\n",
              "      quickchartButtonEl.classList.add('colab-df-quickchart-complete');\n",
              "    }\n",
              "    (() => {\n",
              "      let quickchartButtonEl =\n",
              "        document.querySelector('#df-a9f2e299-94a5-4cbd-80fc-9ccefa9b5dd2 button');\n",
              "      quickchartButtonEl.style.display =\n",
              "        google.colab.kernel.accessAllowed ? 'block' : 'none';\n",
              "    })();\n",
              "  </script>\n",
              "</div>\n",
              "    </div>\n",
              "  </div>\n"
            ],
            "application/vnd.google.colaboratory.intrinsic+json": {
              "type": "dataframe",
              "variable_name": "spam_df",
              "summary": "{\n  \"name\": \"spam_df\",\n  \"rows\": 501,\n  \"fields\": [\n    {\n      \"column\": \"File\",\n      \"properties\": {\n        \"dtype\": \"string\",\n        \"num_unique_values\": 501,\n        \"samples\": [\n          \"0454.943161603b1eb6da5187194b5a75186a\",\n          \"0120.4312b48b82c3d018d2d4ccf5b8e9c167\",\n          \"0085.6e7b1a983ab05445a7eaffcbb6811d3f\"\n        ],\n        \"semantic_type\": \"\",\n        \"description\": \"\"\n      }\n    },\n    {\n      \"column\": \"Content\",\n      \"properties\": {\n        \"dtype\": \"string\",\n        \"num_unique_values\": 497,\n        \"samples\": [\n          \"From b0715638@eudoramail.com  Wed Aug 28 10:43:14 2002\\nReturn-Path: <b0715638@eudoramail.com>\\nDelivered-To: zzzz@localhost.example.com\\nReceived: from localhost (localhost [127.0.0.1])\\n\\tby phobos.labs.example.com (Postfix) with ESMTP id A233B44156\\n\\tfor <zzzz@localhost>; Wed, 28 Aug 2002 05:43:05 -0400 (EDT)\\nReceived: from mail.webnote.net [193.120.211.219]\\n\\tby localhost with POP3 (fetchmail-5.9.0)\\n\\tfor zzzz@localhost (single-drop); Wed, 28 Aug 2002 10:43:05 +0100 (IST)\\nReceived: from cluster.engr.subr.edu (cluster.engr.subr.edu [192.207.173.252])\\n\\tby webnote.net (8.9.3/8.9.3) with ESMTP id WAA01201\\n\\tfor <zzzz@example.com>; Tue, 27 Aug 2002 22:20:52 +0100\\nReceived: from smtp0532.mail.yahoo.com ([210.83.114.125])\\n\\tby cluster.engr.subr.edu (AIX4.3/8.9.3/8.9.3) with SMTP id QAA130820;\\n\\tTue, 27 Aug 2002 16:11:45 -0500\\nMessage-Id: <200208272111.QAA130820@cluster.engr.subr.edu>\\nDate: Wed, 28 Aug 2002 05:16:42 +0800\\nFrom: \\\"Janet Dunham\\\" <b0715638@eudoramail.com>\\nX-Priority: 3\\nTo: zzzz@marchettieng.com\\nCc: zzzz@neo.rr.com, jm@example.com\\nSubject: zzzz,All New! Breast Enhancement\\nMime-Version: 1.0\\nContent-Type: text/plain; charset=us-ascii\\nContent-Transfer-Encoding: 7bit\\n\\n=================================\\n\\nGuaranteed to increase, lift and firm your\\nbreasts in 60 days or your money back!!\\n\\n100% herbal and natural.  Proven formula since \\n1996.  Increase  your bust by 1 to 3 sizes within 30-60 \\ndays and be all natural.  \\n\\nClick here:\\nhttp://202.101.163.34:81/li/wangxd/\\n\\nAbsolutely no side effects!\\nBe more self confident!\\nBe more comfortable in bed!\\nNo more need for a lift or support bra!\\n\\n100% GUARANTEED AND FROM A NAME YOU KNOW AND \\nTRUST!\\n\\n\\n**************************************************\\n\\nYou are receiving this email as a double opt-in \\nsubscriber to the Standard Affiliates Mailing \\nList. \\nTo remove yourself from all related email lists,\\njust click here:\\nhttp://64.123.160.91:81/li/gg/unsubscriber.asp?userid=zzzz@marchettieng.com\\n\\n\",\n          \"From tammy490t@yahoo.com  Tue Aug 27 05:38:41 2002\\nReturn-Path: <tammy490t@yahoo.com>\\nDelivered-To: zzzz@localhost.example.com\\nReceived: from localhost (localhost [127.0.0.1])\\n\\tby phobos.labs.example.com (Postfix) with ESMTP id 4E04943F99\\n\\tfor <zzzz@localhost>; Tue, 27 Aug 2002 00:38:41 -0400 (EDT)\\nReceived: from mail.webnote.net [193.120.211.219]\\n\\tby localhost with POP3 (fetchmail-5.9.0)\\n\\tfor zzzz@localhost (single-drop); Tue, 27 Aug 2002 05:38:41 +0100 (IST)\\nReceived: from wwwserver.cambridge.es ([213.201.61.24])\\n\\tby webnote.net (8.9.3/8.9.3) with ESMTP id FAA29533\\n\\tfor <zzzz@example.com>; Tue, 27 Aug 2002 05:36:05 +0100\\nFrom: tammy490t@yahoo.com\\nReceived: from mx2.mail.yahoo.com (ftp.kibaek-skole.dk [212.237.159.194])\\n\\tby wwwserver.cambridge.es (8.11.6/8.8.7) with ESMTP id g7R4bu527391;\\n\\tTue, 27 Aug 2002 06:37:56 +0200\\nMessage-ID: <0000195e74e5$00003fa6$000038ae@mx2.mail.yahoo.com>\\nTo: <kalyani@ftech.net>, <leander@meta3.net>,\\n\\t<dave@harvestprayer.com>, <lisa.weese@mbna.com>, <zzzz@example.com>,\\n\\t<valentic@actors.com>, <dstrbd@theriver.com>\\nCc: <softworks@globalserve.net>, <tina@total-communications.com>,\\n\\t<blangham@kdsi.net>, <ida@amh.auracom.com>,\\n\\t<melissa_rich@freddiemac.com>, <wongal3@oocl.com>,\\n\\t<barton96@wnol.net>, <preisler@starparent.com>\\nSubject: Free Merchant Account Information                XAXFT\\nDate: Tue, 27 Aug 2002 00:35:05 -1600\\nMIME-Version: 1.0\\nContent-Type: text/plain;\\n\\tcharset=\\\"Windows-1252\\\"\\nContent-Transfer-Encoding: 7bit\\n\\nRequest A Free No Obligation Consultation!\\nAccept Credit Cards Today!\\nNo Set Up Fees\\nNo Application Fees\\nAll Credit Types Accepted\\nRetail Rates as Low as 1.60%\\nMail Order Rates As Low as 2.30%\\nSet Up Your Merchant Account within 48 Hours\\nNO CANCELLATION FEES\\nNo Money Down\\nNo Reprogramming Fees\\nWe Will Beat Anybody\\u0092s Deal By 15%\\n\\nWe make it easy and affordable to start accepting Credit Cards today.\\n99% of our applicants are approved!\\n\\nhttp://64.251.23.141/marketing/merchantnet/\\n\\nto be removed : http://64.251.23.141/marketing/removeme.html\\n\\n\",\n          \"From l1ttakeu@hotmail.com  Thu Aug 29 10:56:02 2002\\nReturn-Path: <l1ttakeu@hotmail.com>\\nDelivered-To: zzzz@localhost.example.com\\nReceived: from localhost (localhost [127.0.0.1])\\n\\tby phobos.labs.example.com (Postfix) with ESMTP id C48FC43F99\\n\\tfor <zzzz@localhost>; Thu, 29 Aug 2002 05:56:00 -0400 (EDT)\\nReceived: from mail.webnote.net [193.120.211.219]\\n\\tby localhost with POP3 (fetchmail-5.9.0)\\n\\tfor zzzz@localhost (single-drop); Thu, 29 Aug 2002 10:56:00 +0100 (IST)\\nReceived: from belmont.belmontheights.org (dsl-65-188-25-209.telocity.com [65.188.25.209])\\n\\tby webnote.net (8.9.3/8.9.3) with ESMTP id WAA06928\\n\\tfor <zzzz@example.com>; Wed, 28 Aug 2002 22:08:12 +0100\\nReceived: from mx02.hotmail.com ([200.184.93.31]) by belmont.belmontheights.org with Microsoft SMTPSVC(5.0.2195.2966);\\n\\t Wed, 28 Aug 2002 16:09:33 -0500\\nMessage-ID: <000066657ac4$00001c54$00007d1d@mx02.hotmail.com>\\nTo: <Contact.List@webnote.net>\\nFrom: \\\"Arnulfo Tobola\\\" <l1ttakeu@hotmail.com>\\nSubject: Hey, rates are low. What are you waiting for?\\nDate: Thu, 29 Aug 2002 01:05:56 -0800\\nMIME-Version: 1.0\\nX-Priority: 3 (Normal)\\nX-MSMail-Priority: Normal\\nX-Mailer: Microsoft Outlook, Build 10.0.2616\\nImportance: Normal\\nX-MimeOLE: Produced By Microsoft MimeOLE V6.00.2600.0000\\nX-OriginalArrivalTime: 28 Aug 2002 21:09:34.0937 (UTC) FILETIME=[35EBB490:01C24ED7]\\nContent-Type: text/html; charset=\\\"iso-8859-1\\\"\\nContent-Transfer-Encoding: quoted-printable\\n\\n\\n<!DOCTYPE HTML PUBLIC \\\"-//W3C//DTD HTML 4.0//EN\\\">\\n\\n<html>\\n<head>\\n<title>www.low-interest-rates.net</title>\\n<style>\\n<!--\\ntd {\\n\\tfont-family: Verdana, Tahoma, sans-serif;\\n\\tfont-size: 12px;\\n\\tcolor: black;\\n}\\n\\ntext {\\n\\tfont-family: Verdana, Tahoma, sans-serif;\\n\\tfont-size: 11px;\\n\\tcolor: black;\\n}\\n\\ntext2 {\\n\\tfont-family: Verdana, Tahoma, sans-serif;\\n\\tfont-size: 12px;\\n\\tcolor: black;\\n}\\n\\nheader {\\n\\tfont-family: Trebuchet MS, Verdana, Tahoma, sans-serif;\\n\\tfont-size: 17px;\\n\\tcolor: white;\\n}\\n\\ntitle {\\n\\tfont-family: Trebuchet MS, Verdana, Tahoma, sans-serif;\\n\\tfont-size: 20px;\\n\\tcolor: #D6CFAB;\\n\\tfont-weight: bold;\\n}\\n\\nh4 {\\n\\tcolor: #B5C943;\\n\\tfont-family: Tahoma, sans-serif;\\n}\\n\\nfooter {\\n\\tfont-family: Verdana, Tahoma, sans-serif;\\n\\tfont-size: 10px;\\n\\tcolor: white;\\n\\tfont-weight: bold;\\n}\\n\\na.footer {color: white; text-decoration: none;}\\na.footer:visited {color: white; text-decoration: none;}\\na.footer:hover {color: white; text-decoration: underline;}\\n\\nbutton {\\n\\tfont-size: 11px;\\n\\tborder-width: 0;\\n\\tbackground-color: #476f8f;\\n\\tcolor: white;\\n\\tfont-family: Verdana, Tahoma, sans-serif;\\n\\tfont-weight: bold;\\n}\\n\\n\\n#selected {\\n\\tcolor: #F5989D;\\n\\ttext-decoration: none;\\n}\\n\\nclicker {cursor: hand}\\n\\n\\na {color: white; text-decoration: none;}\\n//-->\\n</style>\\n\\n\\n</head>\\n\\n<body leftmargin=3D10 topmargin=3D15 marginwidth=3D10 marginheight=3D15>\\n<FORM action=3D method=3Dpost>\\n\\n\\n\\n<div>\\n\\n\\n\\n\\n<table width=3D\\\"100%\\\" cellspacing=3D0 cellpadding=3D0 border=3D0><tr><td b=\\ngcolor=3D#D6CFAB>\\n\\n\\n\\n<center>\\n<br>\\n<table width=3D540 cellspacing=3D0 cellpadding=3D0 border=3D0>\\n\\n<tr>\\n<td bgcolor=3D#F5989D height=3D50 class=3Dheader align=3Dleft>&nbsp;&nbsp;=\\n&nbsp;&nbsp;&nbsp;&nbsp;<b>quotepool</b>mortgage&#153;</td>\\n</tr>\\n\\n\\n\\n<tr><td bgcolor=3Dwhite align=3Dcenter>\\n\\n<table width=3D490 cellspacing=3D0 cellpadding=3D0 border=3D0>\\n<tr>\\n<td align=3Dleft class=3Dtext>\\n<br>\\nWe're different and it's a difference that can save you time and money.<br=\\n>\\nWe <b id=3Dselected>can</b> help you:<br><br>\\n\\n\\t<table width=3D490 cellspacing=3D0 cellpadding=3D0 border=3D0>\\n\\t<tr><td width=3D25 align=3Dcenter class=3Dtitle>&#149;</td><td class=3Dte=\\nxt2><b>Refinance</b> to get a lower rate</td></tr>\\n\\t<tr><td align=3Dcenter class=3Dtitle>&#149;</td><td class=3Dtext2><b>Cons=\\nolidate</b> your high-interest debt</td></tr>\\n\\t<tr><td align=3Dcenter class=3Dtitle>&#149;</td><td class=3Dtext2><b>Lowe=\\nr</b> your monthly payments</td></tr>\\n\\t<tr><td align=3Dcenter class=3Dtitle>&#149;</td><td class=3Dtext2>Get <b>=\\nextra cash</b> for a vacation</td></tr>\\n\\t<tr><td align=3Dcenter class=3Dtitle>&#149;</td><td class=3Dtext2>Pay for=\\n <b>tuition</b></td></tr>\\n\\t<tr><td align=3Dcenter class=3Dtitle>&#149;</td><td class=3Dtext2>Start h=\\nome <b>improvements</b></td></tr>\\n\\t<tr><td align=3Dcenter class=3Dtitle>&#149;</td><td class=3Dtext2><b>Purc=\\nhase</b> a New Home</td></tr>\\n\\t</table>\\n\\t\\n<br>\\n<p class=3Dtext>We understand that there are a lot of decisions to make wh=\\nen securing a mortgage loan or refinancing your current loan.  That's why =\\nwe have mortgage EXPERTS with years of EXPERIENCE to help you make the rig=\\nht decisions.  \\n\\n<p class=3Dtext>Credit doesn't have to be an issue either.  Whether your c=\\nredit's perfect or less than perfect, we can help you find the best deal o=\\nn your home loan. Our quick, FREE, easy form will put you in contact with =\\nthe top brokers in the business!<br>\\n<b>DON'T Miss The Opportunity to SAVE!</b>\\n\\n<p class=3Dtext>Now is the perfect time to secure your mortgage loan.  Wit=\\nh our country in a recession, the federal government keeps LOWERING INTERE=\\nST RATES to help stimulate the economy.  It is a win-win situation and it =\\nbenefits mostly YOU, the homeowner! <b>Try it now!</b>\\n\\t\\t\\t\\t\\n<p class=3Dtext><b>There are NO excuses. There are great rates available, =\\nit's a simple form, and it costs you NOTHING to fill out for a FREE quote.=\\n</b>\\n\\n\\n</td>\\n</tr>\\n</table>\\n\\n\\n<br><br>\\n\\n\\n<table cellspacing=3D1 cellpadding=3D0 border=3D0 align=3Dright>\\n<tr>\\n<td bgcolor=3D#F5989D width=3D150 height=3D25 align=3Dcenter><a href=3D\\\"ht=\\ntp://www.low-interest-rates.net/\\\"><b>PROCEED HERE</b></a></td>\\n<td width=3D100>&nbsp;</td>\\n</tr>\\n</table>\\n\\n\\n</td>\\n</tr>\\n</table>\\n\\n\\n\\n\\n<table width=3D540 cellspacing=3D0 cellpadding=3D0 border=3D0>\\n<tr>\\n<td width=3D484 height=3D30 align=3Dleft bgcolor=3D#F5989D class=3Dfooter>=\\n&nbsp;&nbsp;&nbsp;&nbsp; <a href=3D\\\"http://www.low-interest-rates.net/etc/=\\nprivacy.htm\\\" class=3Dfooter>Privacy</a> | <a href=3D\\\"http://www.low-intere=\\nst-rates.net/etc/unsubscribe.htm\\\" class=3Dfooter>Unsubscribe</a></td>\\n</tr>\\n</table>\\n\\n\\n</center>\\n<br><br>\\n\\n\\n</td></tr></table>\\n\\n\\n</div>\\n\\n\\n</FORM>\\n</body>\\n</html>\\n\\n\\n\\n\"\n        ],\n        \"semantic_type\": \"\",\n        \"description\": \"\"\n      }\n    }\n  ]\n}"
            }
          },
          "metadata": {},
          "execution_count": 59
        }
      ]
    },
    {
      "cell_type": "markdown",
      "source": [
        "We can then read all email files within each directory and create a dataframe. In the dataframe, each row contains the file name and its corresponding email content."
      ],
      "metadata": {
        "id": "LK-_Vjufk3eW"
      }
    },
    {
      "cell_type": "code",
      "source": [
        "def read_emails_in_directory(directory, label):\n",
        "    emails = []\n",
        "    for root, dirs, files in os.walk(directory):\n",
        "        for file in files:\n",
        "            file_path = os.path.join(root, file)\n",
        "            with open(file_path, \"r\", encoding=\"latin1\") as f:\n",
        "                email_content = f.read()\n",
        "                if 'ham' in email_content.lower():\n",
        "                    label = 'ham'\n",
        "                elif 'spam' in email_content.lower():\n",
        "                    label = 'spam'\n",
        "                emails.append({\"File\": file, \"Content\": email_content, \"Label\": label})\n",
        "    df = pd.DataFrame(emails)\n",
        "    return df\n",
        "\n",
        "ham_dir = \"/content/ham\"\n",
        "spam_dir = \"/content/spam\"\n",
        "ham_df = read_emails_in_directory(ham_dir, 'ham')\n",
        "spam_df = read_emails_in_directory(spam_dir, 'spam')\n",
        "print(\"Ham DataFrame:\")\n",
        "print(ham_df.head())\n",
        "print(\"\\nSpam DataFrame:\")\n",
        "print(spam_df.head())"
      ],
      "metadata": {
        "colab": {
          "base_uri": "https://localhost:8080/"
        },
        "id": "vZNCkJ8KcbbQ",
        "outputId": "001ba602-9086-4469-8f66-9d8fed41621e"
      },
      "execution_count": 60,
      "outputs": [
        {
          "output_type": "stream",
          "name": "stdout",
          "text": [
            "Ham DataFrame:\n",
            "                                    File  \\\n",
            "0  1058.f26006b375cfbfb03f4903683f585808   \n",
            "1  1408.c202263092b223a607078977ed7aa6c3   \n",
            "2  2222.21412f6d911e6718ab62011cbc6d9eea   \n",
            "3  0051.9281d3f8a3faf47d09a7fafdf2caf26e   \n",
            "4  0152.10d3220188413990b1deb862c509c818   \n",
            "\n",
            "                                             Content Label  \n",
            "0  From exmh-users-admin@redhat.com  Mon Sep  9 2...  spam  \n",
            "1  From spamassassin-talk-admin@lists.sourceforge...  spam  \n",
            "2  From rssfeeds@jmason.org  Tue Oct  1 10:36:56 ...  spam  \n",
            "3  From ilug-admin@linux.ie  Fri Aug 23 11:07:52 ...  spam  \n",
            "4  From sentto-2242572-55941-1034006157-zzzz=exam...  spam  \n",
            "\n",
            "Spam DataFrame:\n",
            "                                    File  \\\n",
            "0  0300.fa3ece84a195f3d36a70f2550824071f   \n",
            "1  0095.e1db2d3556c2863ef7355faf49160219   \n",
            "2  0021.15185fdb3fb02dffd041fa8f70d19791   \n",
            "3  0267.0bf79a17115bffdf00bb0997f773dfc5   \n",
            "4  0323.badf0273f656afd0dfebaa63af1c81f6   \n",
            "\n",
            "                                             Content Label  \n",
            "0  From news@risingtidestudios.com  Fri Sep 13 13...  spam  \n",
            "1  From sitescooper-talk-admin@lists.sourceforge....  spam  \n",
            "2  From ilug-admin@linux.ie  Fri Aug 23 11:07:47 ...  spam  \n",
            "3  Return-Path: ler@lerami.lerctr.org\\nDelivery-D...   ham  \n",
            "4  From webmake-talk-admin@lists.sourceforge.net ...   ham  \n"
          ]
        }
      ]
    },
    {
      "cell_type": "markdown",
      "source": [
        "We can label each email based on whether the email was already labeled as 'spam' or 'ham' from the corpus.  "
      ],
      "metadata": {
        "id": "nklvHYkWtmCl"
      }
    },
    {
      "cell_type": "markdown",
      "source": [
        "# Creating Testing and Training Sets"
      ],
      "metadata": {
        "id": "jq4G3hXsu591"
      }
    },
    {
      "cell_type": "code",
      "source": [
        "combined_df_shuffled = shuffle(combined_df, random_state=42)\n",
        "train_df, test_df = train_test_split(combined_df_shuffled, test_size=0.20, random_state=42)\n",
        "print(\"Training set shape:\", train_df.shape)\n",
        "print(\"Testing set shape:\", test_df.shape)"
      ],
      "metadata": {
        "colab": {
          "base_uri": "https://localhost:8080/"
        },
        "id": "nqOBBu3geI4T",
        "outputId": "8b441469-3c33-4723-e4c2-e88db40adef6"
      },
      "execution_count": 63,
      "outputs": [
        {
          "output_type": "stream",
          "name": "stdout",
          "text": [
            "Training set shape: (2441, 3)\n",
            "Testing set shape: (611, 3)\n"
          ]
        }
      ]
    },
    {
      "cell_type": "markdown",
      "source": [
        "We can then combine the databases and shuffle them before splitting. We want to split the data such that a good aount of it can be used for machine learning, and such that there is still enough to test. I decided on an 80-20 split, making the test size 20%. This means that there are 2441 randomized emails in the training set, and 611 in the testing set."
      ],
      "metadata": {
        "id": "ZQBLznPl8rMw"
      }
    },
    {
      "cell_type": "markdown",
      "source": [
        "# Data Analysis"
      ],
      "metadata": {
        "id": "ZDJjCQtavCD1"
      }
    },
    {
      "cell_type": "code",
      "source": [
        "vectorizer = TfidfVectorizer()\n",
        "X_train = vectorizer.fit_transform(train_df['Content'])\n",
        "y_train = train_df['Label']\n",
        "\n",
        "X_test = vectorizer.transform(test_df['Content'])\n",
        "y_test = test_df['Label']\n",
        "\n",
        "clf = MultinomialNB()\n",
        "clf.fit(X_train, y_train)\n",
        "y_pred = clf.predict(X_test)\n",
        "accuracy = accuracy_score(y_test, y_pred)\n",
        "print(\"Accuracy:\", accuracy)\n",
        "print(\"Data Analysis Summary:\")\n",
        "print(classification_report(y_test, y_pred))"
      ],
      "metadata": {
        "colab": {
          "base_uri": "https://localhost:8080/"
        },
        "id": "HLhlwvqMfZlr",
        "outputId": "33e88446-dec4-4516-b1f0-9aa129f5a449"
      },
      "execution_count": 65,
      "outputs": [
        {
          "output_type": "stream",
          "name": "stdout",
          "text": [
            "Accuracy: 0.8363338788870703\n",
            "Data Analysis Summary:\n",
            "              precision    recall  f1-score   support\n",
            "\n",
            "         ham       1.00      0.01      0.02       101\n",
            "        spam       0.84      1.00      0.91       510\n",
            "\n",
            "    accuracy                           0.84       611\n",
            "   macro avg       0.92      0.50      0.47       611\n",
            "weighted avg       0.86      0.84      0.76       611\n",
            "\n"
          ]
        }
      ]
    },
    {
      "cell_type": "markdown",
      "source": [
        "The accuracy of the model is 83.63%, indicating that it correctly classified approximately 83.63% of the test data. However, the precision for the 'ham' class is unusually high at 100%, suggesting that all instances classified as 'ham' were correctly predicted. The precision for the 'spam' class is 84%, indicating that 84% of the instances classified as 'spam' were correctly predicted. Additionally, despite the high precision for 'ham', the extremely low recall indicates that the model failed to capture most of the 'ham' instances, leading to an F1-score of only 0.02. The macro and weighted average metrics show an overall imbalance in the model's performance between. This may be due to the unequal distribution of spam and ham email counts."
      ],
      "metadata": {
        "id": "yUmX47uWurmu"
      }
    },
    {
      "cell_type": "markdown",
      "source": [
        "# Conclusion\n",
        "\n",
        "In conclusion, the model achieved an overall accuracy of 83.63%, with particularly high precision for the 'ham' class at 100%. However, its performance on 'spam' classification, which was still decent at about 84% precision, experienced low recall for 'ham' instances. This led to an F1-score of only 0.02, indicating poor balance in the model's ability to correctly classify both classes. The macro and weighted average metrics also point to this imbalance, likely stemming from the unequal distribution of spam and ham emails in the dataset."
      ],
      "metadata": {
        "id": "FgP3zSefvvAh"
      }
    },
    {
      "cell_type": "markdown",
      "source": [
        "# Presentation Link"
      ],
      "metadata": {
        "id": "Z3jkym_l8oD7"
      }
    }
  ]
}